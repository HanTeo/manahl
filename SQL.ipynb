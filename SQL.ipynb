{
 "cells": [
  {
   "cell_type": "code",
   "execution_count": 1,
   "metadata": {},
   "outputs": [],
   "source": [
    "from sqlite3 import connect\n",
    "from pandas import read_sql_query"
   ]
  },
  {
   "cell_type": "code",
   "execution_count": 2,
   "metadata": {},
   "outputs": [],
   "source": [
    "sql_create_product_table = \"\"\" CREATE TABLE IF NOT EXISTS product (\n",
    "                                    product_id number primary key,\n",
    "                                    name varchar not null,\n",
    "                                    rrp number not null,\n",
    "                                    available_from date not null\n",
    "                                );\n",
    "                                \"\"\"\n",
    " \n",
    "sql_create_orders_table = \"\"\" CREATE TABLE IF NOT EXISTS orders (\n",
    "                                  order_id number primary key,\n",
    "                                  product_id number not null,\n",
    "                                  quantity number not null,\n",
    "                                  order_price number not null,\n",
    "                                  dispatch_date date not null,\n",
    "                                  foreign key (product_id) references product(product_id)\n",
    "                              );\n",
    "                              \"\"\"\n",
    "\n",
    "insert_sql_products = \"\"\"INSERT INTO product (product_id, name, rrp, available_from) VALUES\n",
    "                        (101, 'Bayesian Methods for Nonlinear Classification and Regression', 94.95, date('now', 'weekday 3', '-7 day')),\n",
    "                        (102, '2018 in Review preorder', 21.95, date('now','+1 year')),\n",
    "                        (103, 'Learn Python in Ten Minutes', 2.15, date('now','-3 month')),\n",
    "                        (104, 'sports almanac 1999-2049', 3.38, date('now','-2 year')),\n",
    "                        (105, 'finance for dummies', 84.99, date('now','-1 year'));\n",
    "                        \"\"\"\n",
    "\n",
    "insert_sql_orders = \"\"\"INSERT INTO orders (order_id, product_id, quantity, order_price, dispatch_date) VALUES\n",
    "                        (1000, 101, 1, 90.00, date('now','-2 month')),\n",
    "                        (1001, 103, 1, 1.15, date('now','-40 day')),\n",
    "                        (1002, 101, 10, 90.00, date('now','-11 month')),\n",
    "                        (1003, 104, 11, 3.38, date('now','-6 month')),\n",
    "                        (1004, 105, 11, 501.33, date('now','-2 year'));\n",
    "                        \"\"\""
   ]
  },
  {
   "cell_type": "code",
   "execution_count": 3,
   "metadata": {},
   "outputs": [
    {
     "data": {
      "text/plain": [
       "<sqlite3.Cursor at 0x7f6a177ecce0>"
      ]
     },
     "execution_count": 3,
     "metadata": {},
     "output_type": "execute_result"
    }
   ],
   "source": [
    "con = connect(\":memory:\")\n",
    "cur = con.cursor()\n",
    "cur.execute(sql_create_product_table)\n",
    "cur.execute(sql_create_orders_table)\n",
    "cur.execute(insert_sql_orders)\n",
    "cur.execute(insert_sql_products)"
   ]
  },
  {
   "cell_type": "code",
   "execution_count": 4,
   "metadata": {},
   "outputs": [],
   "source": [
    "df_product = read_sql_query(\"select * from product\", con)\n",
    "df_orders = read_sql_query(\"select * from orders\", con)"
   ]
  },
  {
   "cell_type": "code",
   "execution_count": 5,
   "metadata": {},
   "outputs": [
    {
     "data": {
      "text/html": [
       "<div>\n",
       "<style>\n",
       "    .dataframe thead tr:only-child th {\n",
       "        text-align: right;\n",
       "    }\n",
       "\n",
       "    .dataframe thead th {\n",
       "        text-align: left;\n",
       "    }\n",
       "\n",
       "    .dataframe tbody tr th {\n",
       "        vertical-align: top;\n",
       "    }\n",
       "</style>\n",
       "<table border=\"1\" class=\"dataframe\">\n",
       "  <thead>\n",
       "    <tr style=\"text-align: right;\">\n",
       "      <th></th>\n",
       "      <th>product_id</th>\n",
       "      <th>name</th>\n",
       "      <th>rrp</th>\n",
       "      <th>available_from</th>\n",
       "    </tr>\n",
       "  </thead>\n",
       "  <tbody>\n",
       "    <tr>\n",
       "      <th>0</th>\n",
       "      <td>101</td>\n",
       "      <td>Bayesian Methods for Nonlinear Classification ...</td>\n",
       "      <td>94.95</td>\n",
       "      <td>2018-04-25</td>\n",
       "    </tr>\n",
       "    <tr>\n",
       "      <th>1</th>\n",
       "      <td>102</td>\n",
       "      <td>2018 in Review preorder</td>\n",
       "      <td>21.95</td>\n",
       "      <td>2019-04-26</td>\n",
       "    </tr>\n",
       "    <tr>\n",
       "      <th>2</th>\n",
       "      <td>103</td>\n",
       "      <td>Learn Python in Ten Minutes</td>\n",
       "      <td>2.15</td>\n",
       "      <td>2018-01-26</td>\n",
       "    </tr>\n",
       "    <tr>\n",
       "      <th>3</th>\n",
       "      <td>104</td>\n",
       "      <td>sports almanac 1999-2049</td>\n",
       "      <td>3.38</td>\n",
       "      <td>2016-04-26</td>\n",
       "    </tr>\n",
       "    <tr>\n",
       "      <th>4</th>\n",
       "      <td>105</td>\n",
       "      <td>finance for dummies</td>\n",
       "      <td>84.99</td>\n",
       "      <td>2017-04-26</td>\n",
       "    </tr>\n",
       "  </tbody>\n",
       "</table>\n",
       "</div>"
      ],
      "text/plain": [
       "   product_id                                               name    rrp  \\\n",
       "0         101  Bayesian Methods for Nonlinear Classification ...  94.95   \n",
       "1         102                            2018 in Review preorder  21.95   \n",
       "2         103                        Learn Python in Ten Minutes   2.15   \n",
       "3         104                           sports almanac 1999-2049   3.38   \n",
       "4         105                                finance for dummies  84.99   \n",
       "\n",
       "  available_from  \n",
       "0     2018-04-25  \n",
       "1     2019-04-26  \n",
       "2     2018-01-26  \n",
       "3     2016-04-26  \n",
       "4     2017-04-26  "
      ]
     },
     "execution_count": 5,
     "metadata": {},
     "output_type": "execute_result"
    }
   ],
   "source": [
    "df_product"
   ]
  },
  {
   "cell_type": "code",
   "execution_count": 6,
   "metadata": {},
   "outputs": [
    {
     "data": {
      "text/html": [
       "<div>\n",
       "<style>\n",
       "    .dataframe thead tr:only-child th {\n",
       "        text-align: right;\n",
       "    }\n",
       "\n",
       "    .dataframe thead th {\n",
       "        text-align: left;\n",
       "    }\n",
       "\n",
       "    .dataframe tbody tr th {\n",
       "        vertical-align: top;\n",
       "    }\n",
       "</style>\n",
       "<table border=\"1\" class=\"dataframe\">\n",
       "  <thead>\n",
       "    <tr style=\"text-align: right;\">\n",
       "      <th></th>\n",
       "      <th>order_id</th>\n",
       "      <th>product_id</th>\n",
       "      <th>quantity</th>\n",
       "      <th>order_price</th>\n",
       "      <th>dispatch_date</th>\n",
       "    </tr>\n",
       "  </thead>\n",
       "  <tbody>\n",
       "    <tr>\n",
       "      <th>0</th>\n",
       "      <td>1000</td>\n",
       "      <td>101</td>\n",
       "      <td>1</td>\n",
       "      <td>90.00</td>\n",
       "      <td>2018-02-26</td>\n",
       "    </tr>\n",
       "    <tr>\n",
       "      <th>1</th>\n",
       "      <td>1001</td>\n",
       "      <td>103</td>\n",
       "      <td>1</td>\n",
       "      <td>1.15</td>\n",
       "      <td>2018-03-17</td>\n",
       "    </tr>\n",
       "    <tr>\n",
       "      <th>2</th>\n",
       "      <td>1002</td>\n",
       "      <td>101</td>\n",
       "      <td>10</td>\n",
       "      <td>90.00</td>\n",
       "      <td>2017-05-26</td>\n",
       "    </tr>\n",
       "    <tr>\n",
       "      <th>3</th>\n",
       "      <td>1003</td>\n",
       "      <td>104</td>\n",
       "      <td>11</td>\n",
       "      <td>3.38</td>\n",
       "      <td>2017-10-26</td>\n",
       "    </tr>\n",
       "    <tr>\n",
       "      <th>4</th>\n",
       "      <td>1004</td>\n",
       "      <td>105</td>\n",
       "      <td>11</td>\n",
       "      <td>501.33</td>\n",
       "      <td>2016-04-26</td>\n",
       "    </tr>\n",
       "  </tbody>\n",
       "</table>\n",
       "</div>"
      ],
      "text/plain": [
       "   order_id  product_id  quantity  order_price dispatch_date\n",
       "0      1000         101         1        90.00    2018-02-26\n",
       "1      1001         103         1         1.15    2018-03-17\n",
       "2      1002         101        10        90.00    2017-05-26\n",
       "3      1003         104        11         3.38    2017-10-26\n",
       "4      1004         105        11       501.33    2016-04-26"
      ]
     },
     "execution_count": 6,
     "metadata": {},
     "output_type": "execute_result"
    }
   ],
   "source": [
    "df_orders"
   ]
  },
  {
   "cell_type": "markdown",
   "metadata": {},
   "source": [
    "##### Write an sql query to find books that have\n",
    "- sold fewer than 10 copies \n",
    "- sold in the last year, \n",
    "- excluding books that have been available for less than 1 month."
   ]
  },
  {
   "cell_type": "code",
   "execution_count": 8,
   "metadata": {},
   "outputs": [
    {
     "data": {
      "text/html": [
       "<div>\n",
       "<style>\n",
       "    .dataframe thead tr:only-child th {\n",
       "        text-align: right;\n",
       "    }\n",
       "\n",
       "    .dataframe thead th {\n",
       "        text-align: left;\n",
       "    }\n",
       "\n",
       "    .dataframe tbody tr th {\n",
       "        vertical-align: top;\n",
       "    }\n",
       "</style>\n",
       "<table border=\"1\" class=\"dataframe\">\n",
       "  <thead>\n",
       "    <tr style=\"text-align: right;\">\n",
       "      <th></th>\n",
       "      <th>product_id</th>\n",
       "      <th>name</th>\n",
       "      <th>rrp</th>\n",
       "      <th>available_from</th>\n",
       "      <th>copies_sold</th>\n",
       "    </tr>\n",
       "  </thead>\n",
       "  <tbody>\n",
       "    <tr>\n",
       "      <th>0</th>\n",
       "      <td>103</td>\n",
       "      <td>Learn Python in Ten Minutes</td>\n",
       "      <td>2.15</td>\n",
       "      <td>2018-01-26</td>\n",
       "      <td>1</td>\n",
       "    </tr>\n",
       "  </tbody>\n",
       "</table>\n",
       "</div>"
      ],
      "text/plain": [
       "   product_id                         name   rrp available_from  copies_sold\n",
       "0         103  Learn Python in Ten Minutes  2.15     2018-01-26            1"
      ]
     },
     "execution_count": 8,
     "metadata": {},
     "output_type": "execute_result"
    }
   ],
   "source": [
    "sql_query = \"\"\"\n",
    "                     SELECT p.*, sum(quantity) as copies_sold \n",
    "                     FROM product p \n",
    "                     JOIN orders o on o.product_id == p.product_id\n",
    "                     WHERE o.dispatch_date > date('now', '-1 year')\n",
    "                     AND p.available_from < date('now', '-1 month') \n",
    "                     GROUP BY o.product_id \n",
    "                     HAVING copies_sold < 10\n",
    "                     \"\"\"\n",
    "read_sql_query(sql_query, con)"
   ]
  },
  {
   "cell_type": "markdown",
   "metadata": {},
   "source": [
    "We assume `dispatch_date` to be the sold date but also consider the possibility that items that can dispatch in the future and therefore count them as sold."
   ]
  },
  {
   "cell_type": "code",
   "execution_count": null,
   "metadata": {},
   "outputs": [],
   "source": []
  }
 ],
 "metadata": {
  "kernelspec": {
   "display_name": "Python 3.6",
   "language": "python",
   "name": "python36"
  },
  "language_info": {
   "codemirror_mode": {
    "name": "ipython",
    "version": 3
   },
   "file_extension": ".py",
   "mimetype": "text/x-python",
   "name": "python",
   "nbconvert_exporter": "python",
   "pygments_lexer": "ipython3",
   "version": "3.6.3"
  }
 },
 "nbformat": 4,
 "nbformat_minor": 2
}
