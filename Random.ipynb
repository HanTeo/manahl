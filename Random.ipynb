{
 "cells": [
  {
   "cell_type": "markdown",
   "metadata": {},
   "source": [
    "### Random Number Generator (Weighted by arbitrary probabilities)\n",
    "Implement the method `nextNum()` and a minimal but effective set of unit tests. Implement in the language of your choice, Python is preferred, but Java and other languages are completely fine. Make sure your code is exemplary, as if it was going to be shipped as part of a production system.\n",
    "As a quick check, given Random Numbers are `[-1, 0, 1, 2, 3]` and Probabilities are `[0.01, 0.3, 0.58, 0.1, 0.01]` if we call `nextNum()` 100 times we may get the following results.\n",
    "\n",
    "|n |frequency|\n",
    "|-:|--------:|\n",
    "|-1| 1 times |\n",
    "|0 |22 times |\n",
    "|1 |57 times |\n",
    "|2 |20 times |\n",
    "|3 |0 times  |\n",
    "\n",
    "As the results are random, these particular results are unlikely.\n",
    "\n",
    "Languages Python\n",
    "You may use `random.random()` which returns a pseudo random number between 0 and 1."
   ]
  },
  {
   "cell_type": "code",
   "execution_count": 1,
   "metadata": {
    "collapsed": true
   },
   "outputs": [],
   "source": [
    "import random\n",
    "import numpy as np\n",
    "from bisect import bisect_right\n",
    "from typing import Iterable\n",
    "from math import fsum"
   ]
  },
  {
   "cell_type": "code",
   "execution_count": 4,
   "metadata": {
    "collapsed": true
   },
   "outputs": [],
   "source": [
    "class RandomGen(object):\n",
    "    \n",
    "    def guard(self, candidates, probabilities):\n",
    "        \"\"\"\n",
    "        Guard statements to check that inputs are valid\n",
    "        \n",
    "        candidates: Iterable\n",
    "        probabilities: Iterable[float]        \n",
    "        \"\"\"\n",
    "        # candidates and probabilities must be same dimension\n",
    "        if len(candidates) != len(probabilities):\n",
    "            raise ValueError(\"Dimensions of candidates and probabilities are different.\")\n",
    "        \n",
    "        # candidates and probabilities must not be empty\n",
    "        if len(candidates) == 0 or len(probabilities) == 0:\n",
    "            raise ValueError(f\"Candidates and probabilities must not be empty\")\n",
    "        \n",
    "        # probabilities must be positive\n",
    "        negatives = len(list(filter(lambda x: x < 0, probabilities)))\n",
    "        if negatives > 0:\n",
    "            raise ValueError(f\"Probabilities contains {negatives} negative number(s)\")\n",
    "        \n",
    "        # probabilities must all add up to 1\n",
    "        total_prob = fsum(probabilities)\n",
    "        if total_prob != 1.0:\n",
    "            raise ValueError(f\"Probabilities must all add up to 1 instead of {total_prob}\")\n",
    "\n",
    "    def __init__(self, candidates: Iterable, probabilities: Iterable[float]): \n",
    "        self.guard(candidates, probabilities)\n",
    "        self._cumulative_totals = np.cumsum(probabilities)\n",
    "        self._random_nums = candidates\n",
    "        self._probabilities = probabilities\n",
    "    \n",
    "    def next_num(self):\n",
    "        \"\"\"\n",
    "        Returns one of the randomNums. When this method is called\n",
    "        multiple times over a long period, it should return the\n",
    "        numbers roughly with the initialized probabilities.\n",
    "        \"\"\"\n",
    "        # use binary search to insert random into a sorted list\n",
    "        rnd = random.random() * self._cumulative_totals[-1]\n",
    "        i = bisect_right(self._cumulative_totals, rnd)\n",
    "        return self._random_nums[i]\n",
    "    \n",
    "    def __call__(self):\n",
    "        return self.next_num()"
   ]
  },
  {
   "cell_type": "code",
   "execution_count": 11,
   "metadata": {},
   "outputs": [
    {
     "name": "stderr",
     "output_type": "stream",
     "text": [
      "........\n",
      "----------------------------------------------------------------------\n",
      "Ran 8 tests in 0.032s\n",
      "\n",
      "OK\n"
     ]
    },
    {
     "data": {
      "text/plain": [
       "<unittest.runner.TextTestResult run=8 errors=0 failures=0>"
      ]
     },
     "execution_count": 11,
     "metadata": {},
     "output_type": "execute_result"
    }
   ],
   "source": [
    "from unittest import *\n",
    "from numpy.testing import assert_almost_equal\n",
    "\n",
    "class TestCases(TestCase):\n",
    "        \n",
    "    def test_empty(self):\n",
    "        self.assertRaises(ValueError, RandomGen, [], [])\n",
    "        self.assertRaises(ValueError, RandomGen, ['one'], [])\n",
    "        self.assertRaises(ValueError, RandomGen, [], [1])\n",
    "    \n",
    "    def test_unequal_dimensions(self):\n",
    "        self.assertRaises(ValueError, RandomGen, ['one', 'two'], [1])\n",
    "        self.assertRaises(ValueError, RandomGen, ['one'], [0.5,0.5])\n",
    "        with self.assertRaises(ValueError) as e: \n",
    "            RandomGen(['one'], [0.5,0.5])\n",
    "        self.assertEqual(str(e.exception), 'Dimensions of candidates and probabilities are different.')\n",
    "    \n",
    "    def test_invalid_probabilities(self):\n",
    "        self.assertRaises(ValueError, RandomGen, ['one'], [-1])\n",
    "        self.assertRaises(ValueError, RandomGen, ['one'], [1.1])             \n",
    "        self.assertRaises(ValueError, RandomGen, ['one', 'two'], [-0.1,1.1])\n",
    "        \n",
    "    def test_invalid_total_probability(self):\n",
    "        self.assertRaises(ValueError, RandomGen, ['one', 'two'], [0.1,0.2])\n",
    "        self.assertRaises(ValueError, RandomGen, ['one', 'two'], [0.9,0.2])\n",
    "        \n",
    "    def test_arguments_iterable(self):\n",
    "        self.assertRaises(TypeError, RandomGen, 1, 1)\n",
    "        self.assertRaises(TypeError, RandomGen, [1], 1)\n",
    "        self.assertRaises(TypeError, RandomGen, 1, [1])\n",
    "    \n",
    "    def test_probabilities_iterable_numerics(self):\n",
    "        self.assertRaises(TypeError, RandomGen, 1, 'A')\n",
    "        self.assertRaises(TypeError, RandomGen, [1], ['A'])\n",
    "        self.assertRaises(TypeError, RandomGen, [1,2], [1,'A'])\n",
    "        \n",
    "    def test_fsum_precision_on_probabilities(self):\n",
    "        weighted_random = RandomGen([-1, 0, 1, 2, 3], [0.01, 0.3, 0.58, 0.1, 0.01])\n",
    "        \n",
    "    def test_distribution(self):\n",
    "        candidates = [-1, 0, 1, 2, 3]\n",
    "        given_probs = [0.01, 0.3, 0.58, 0.1, 0.01]\n",
    "        sample_size = 10000\n",
    "        \n",
    "        weighted_random = RandomGen(candidates, given_probs)\n",
    "        samples = [weighted_random() for _ in range(sample_size)]\n",
    "        unique, counts = np.unique(samples, return_counts=True)\n",
    "        totals = sum(counts)\n",
    "        actual_probs = counts/totals\n",
    "        \n",
    "        assert_almost_equal(actual_probs, given_probs, decimal=2)\n",
    "        \n",
    "        \n",
    "test_cases = TestCases()\n",
    "test_suite = TestLoader().loadTestsFromModule(test_cases)\n",
    "TextTestRunner().run(test_suite)"
   ]
  },
  {
   "cell_type": "markdown",
   "metadata": {},
   "source": [
    "#### Q. Please describe how you might implement this more \"pythonically\"\n",
    "A: By implementing iterator and generator functions `__iter__` and `__next__` and using the `yield` keyword so that the weighted random function appears like a sequence."
   ]
  },
  {
   "cell_type": "code",
   "execution_count": null,
   "metadata": {
    "collapsed": true
   },
   "outputs": [],
   "source": []
  }
 ],
 "metadata": {
  "kernelspec": {
   "display_name": "Python 3",
   "language": "python",
   "name": "python3"
  },
  "language_info": {
   "codemirror_mode": {
    "name": "ipython",
    "version": 3
   },
   "file_extension": ".py",
   "mimetype": "text/x-python",
   "name": "python",
   "nbconvert_exporter": "python",
   "pygments_lexer": "ipython3",
   "version": "3.6.1"
  }
 },
 "nbformat": 4,
 "nbformat_minor": 2
}
